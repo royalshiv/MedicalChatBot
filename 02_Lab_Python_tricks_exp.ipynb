{
  "cells": [
    {
      "cell_type": "markdown",
      "metadata": {
        "id": "view-in-github",
        "colab_type": "text"
      },
      "source": [
        "<a href=\"https://colab.research.google.com/github/royalshiv/MedicalChatBot/blob/master/02_Lab_Python_tricks_exp.ipynb\" target=\"_parent\"><img src=\"https://colab.research.google.com/assets/colab-badge.svg\" alt=\"Open In Colab\"/></a>"
      ]
    },
    {
      "cell_type": "markdown",
      "source": [
        "**Please upload the completed notebook to Brightspace** under `Computer Vision > Assignment submission`\n"
      ],
      "metadata": {
        "id": "e0M_YePt_KEg"
      }
    },
    {
      "cell_type": "markdown",
      "metadata": {
        "id": "FfbvxYNOHfEz"
      },
      "source": [
        "# Python tricks"
      ]
    },
    {
      "cell_type": "markdown",
      "metadata": {
        "id": "rA8V3JwiHfE4"
      },
      "source": [
        "This notebook includes a few Python exercises focussing on `list/dictionary compreshensions` and `lambda functions`."
      ]
    },
    {
      "cell_type": "markdown",
      "metadata": {
        "id": "X87IkLenHfE5"
      },
      "source": [
        "As in most notebooks, we'll start with some imports of modules that we will need:"
      ]
    },
    {
      "cell_type": "code",
      "execution_count": null,
      "metadata": {
        "execution": {
          "iopub.execute_input": "2021-02-04T09:46:11.909941Z",
          "iopub.status.busy": "2021-02-04T09:46:11.909479Z",
          "iopub.status.idle": "2021-02-04T09:46:11.914885Z",
          "shell.execute_reply": "2021-02-04T09:46:11.913740Z",
          "shell.execute_reply.started": "2021-02-04T09:46:11.909887Z"
        },
        "id": "B4wUXmqcHfE5"
      },
      "outputs": [],
      "source": [
        "import random\n",
        "import numpy as np"
      ]
    },
    {
      "cell_type": "markdown",
      "metadata": {
        "id": "mitX_0GYHfE7"
      },
      "source": [
        "## List comprehensions"
      ]
    },
    {
      "cell_type": "markdown",
      "metadata": {
        "id": "f33YNpzQHfE7"
      },
      "source": [
        "The cell below generates a list of `10` random integers between `3` and `17`:"
      ]
    },
    {
      "cell_type": "code",
      "execution_count": null,
      "metadata": {
        "ExecuteTime": {
          "end_time": "2020-02-13T12:50:09.078243Z",
          "start_time": "2020-02-13T12:50:09.074230Z"
        },
        "execution": {
          "iopub.execute_input": "2021-02-04T09:47:45.228762Z",
          "iopub.status.busy": "2021-02-04T09:47:45.228279Z",
          "iopub.status.idle": "2021-02-04T09:47:45.237916Z",
          "shell.execute_reply": "2021-02-04T09:47:45.236839Z",
          "shell.execute_reply.started": "2021-02-04T09:47:45.228707Z"
        },
        "id": "lmW_b-KZHfE7",
        "outputId": "669132aa-7798-489b-888e-f73d810d894c"
      },
      "outputs": [
        {
          "data": {
            "text/plain": [
              "[9, 5, 11, 15, 15, 16, 7, 4, 15, 17]"
            ]
          },
          "execution_count": 12,
          "metadata": {},
          "output_type": "execute_result"
        }
      ],
      "source": [
        "rand1 = []\n",
        "for _ in range(10):\n",
        "    rand1.append(random.randint(3,17))\n",
        "rand1"
      ]
    },
    {
      "cell_type": "markdown",
      "metadata": {
        "ExecuteTime": {
          "end_time": "2020-02-13T07:01:54.095651Z",
          "start_time": "2020-02-13T07:01:54.088741Z"
        },
        "id": "bXCkazzmHfE9"
      },
      "source": [
        "In the cell below, use `list comprehension` to generate a list named `rand2` like we did above:"
      ]
    },
    {
      "cell_type": "code",
      "execution_count": null,
      "metadata": {
        "ExecuteTime": {
          "end_time": "2020-02-13T12:50:51.722788Z",
          "start_time": "2020-02-13T12:50:51.717998Z"
        },
        "execution": {
          "iopub.execute_input": "2021-02-04T09:48:02.321895Z",
          "iopub.status.busy": "2021-02-04T09:48:02.321438Z",
          "iopub.status.idle": "2021-02-04T09:48:02.327988Z",
          "shell.execute_reply": "2021-02-04T09:48:02.326709Z",
          "shell.execute_reply.started": "2021-02-04T09:48:02.321839Z"
        },
        "id": "n3W8vfyjHfE-"
      },
      "outputs": [],
      "source": [
        "#YOUR_CODE_HERE\n"
      ]
    },
    {
      "cell_type": "code",
      "execution_count": null,
      "metadata": {
        "ExecuteTime": {
          "end_time": "2020-02-13T12:50:59.962130Z",
          "start_time": "2020-02-13T12:50:59.953925Z"
        },
        "execution": {
          "iopub.execute_input": "2021-02-04T09:48:21.891102Z",
          "iopub.status.busy": "2021-02-04T09:48:21.890651Z",
          "iopub.status.idle": "2021-02-04T09:48:21.898190Z",
          "shell.execute_reply": "2021-02-04T09:48:21.897116Z",
          "shell.execute_reply.started": "2021-02-04T09:48:21.891046Z"
        },
        "id": "G14vpU5vHfE-",
        "outputId": "525ca59f-9221-4af1-d264-3018f7f134cb"
      },
      "outputs": [
        {
          "data": {
            "text/plain": [
              "[9, 12, 3, 15, 16, 14, 8, 3, 11, 16]"
            ]
          },
          "execution_count": 15,
          "metadata": {},
          "output_type": "execute_result"
        }
      ],
      "source": [
        "# display your numbers\n",
        "rand2"
      ]
    },
    {
      "cell_type": "markdown",
      "metadata": {
        "id": "_29i9HM2HfE_"
      },
      "source": [
        "Unless you're an extremely lucky person, the numbers generated using the `list comprehension` will be different than the numbers generated with the loop. The reason for this is not that the loop somehow work differently; the numbers are different because they are *random* (pseudo-random to be exact). This means that every time you generate your list, you will almost certainly get a different set of numbers."
      ]
    },
    {
      "cell_type": "markdown",
      "metadata": {
        "id": "O--1s4xWHfE_"
      },
      "source": [
        "Find out by yourself - in the cell below, run you `list comprehension` a few times within a loop, printing the result every time:"
      ]
    },
    {
      "cell_type": "code",
      "execution_count": null,
      "metadata": {
        "ExecuteTime": {
          "end_time": "2020-02-13T12:53:34.335239Z",
          "start_time": "2020-02-13T12:53:34.327228Z"
        },
        "execution": {
          "iopub.execute_input": "2021-02-04T09:53:39.443583Z",
          "iopub.status.busy": "2021-02-04T09:53:39.443136Z",
          "iopub.status.idle": "2021-02-04T09:53:39.452119Z",
          "shell.execute_reply": "2021-02-04T09:53:39.450954Z",
          "shell.execute_reply.started": "2021-02-04T09:53:39.443528Z"
        },
        "id": "zd-XkUcgHfFA",
        "outputId": "dcac90c9-84d6-4ecd-90f3-758c8a4a4bd5"
      },
      "outputs": [
        {
          "name": "stdout",
          "output_type": "stream",
          "text": [
            "[12, 17, 8, 3, 15, 3, 11, 9, 14, 14]\n",
            "[7, 13, 4, 9, 5, 5, 12, 17, 15, 3]\n",
            "[13, 8, 12, 15, 11, 9, 3, 9, 11, 10]\n",
            "[17, 17, 16, 16, 8, 16, 12, 10, 16, 5]\n",
            "[5, 3, 14, 9, 14, 11, 5, 11, 4, 6]\n"
          ]
        }
      ],
      "source": [
        "#YOUR_CODE_HERE\n"
      ]
    },
    {
      "cell_type": "markdown",
      "metadata": {
        "id": "-NnHWoI-HfFA"
      },
      "source": [
        "Sometimes in the interest of *reproducibility* you will want to generate a set of numbers which are random, yet the same every time you run your code. You can do this easily by setting the *random seed* of your generator, like in the cell below:"
      ]
    },
    {
      "cell_type": "code",
      "execution_count": null,
      "metadata": {
        "ExecuteTime": {
          "end_time": "2020-02-13T12:55:44.368977Z",
          "start_time": "2020-02-13T12:55:44.359807Z"
        },
        "execution": {
          "iopub.execute_input": "2021-02-04T09:55:57.738542Z",
          "iopub.status.busy": "2021-02-04T09:55:57.738092Z",
          "iopub.status.idle": "2021-02-04T09:55:57.747893Z",
          "shell.execute_reply": "2021-02-04T09:55:57.746716Z",
          "shell.execute_reply.started": "2021-02-04T09:55:57.738488Z"
        },
        "id": "YA6UJF5fHfFB",
        "outputId": "3258fa8b-d05c-48c4-8d88-4bd39ad555d3"
      },
      "outputs": [
        {
          "name": "stdout",
          "output_type": "stream",
          "text": [
            "[5, 12, 16, 15, 15, 4, 7, 4, 10, 15]\n",
            "[5, 12, 16, 15, 15, 4, 7, 4, 10, 15]\n",
            "[5, 12, 16, 15, 15, 4, 7, 4, 10, 15]\n",
            "[5, 12, 16, 15, 15, 4, 7, 4, 10, 15]\n",
            "[5, 12, 16, 15, 15, 4, 7, 4, 10, 15]\n"
          ]
        }
      ],
      "source": [
        "for _ in range(5):\n",
        "    random.seed(1)\n",
        "    rand3 = []\n",
        "    for _ in range(10):\n",
        "        rand3.append(random.randint(3,17))\n",
        "    print(rand3)"
      ]
    },
    {
      "cell_type": "markdown",
      "metadata": {
        "id": "TlUehJFQHfFC"
      },
      "source": [
        "The code below generates a list of nubers using a nested loop with a conditional statement:"
      ]
    },
    {
      "cell_type": "code",
      "execution_count": null,
      "metadata": {
        "ExecuteTime": {
          "end_time": "2020-02-13T12:56:17.060763Z",
          "start_time": "2020-02-13T12:56:17.054411Z"
        },
        "execution": {
          "iopub.execute_input": "2021-02-04T10:58:51.505218Z",
          "iopub.status.busy": "2021-02-04T10:58:51.504773Z",
          "iopub.status.idle": "2021-02-04T10:58:51.515001Z",
          "shell.execute_reply": "2021-02-04T10:58:51.513925Z",
          "shell.execute_reply.started": "2021-02-04T10:58:51.505164Z"
        },
        "id": "oDfLSLxeHfFC",
        "outputId": "45b9aee5-f88b-4778-b301-ce503e993c47"
      },
      "outputs": [
        {
          "data": {
            "text/plain": [
              "[0, 0, 1, 1, 2, 8, 3, 27, 4, 64]"
            ]
          },
          "execution_count": 23,
          "metadata": {},
          "output_type": "execute_result"
        }
      ],
      "source": [
        "out = []\n",
        "for i in range(5):\n",
        "    for j in range(5):\n",
        "        if j % 2:\n",
        "            out.append(i**j)\n",
        "out"
      ]
    },
    {
      "cell_type": "markdown",
      "metadata": {
        "id": "vDcxJY3sHfFC"
      },
      "source": [
        "In the cell below perform the same operation using `list comprehension`:"
      ]
    },
    {
      "cell_type": "code",
      "execution_count": null,
      "metadata": {
        "execution": {
          "iopub.execute_input": "2021-02-04T11:01:32.911317Z",
          "iopub.status.busy": "2021-02-04T11:01:32.910860Z",
          "iopub.status.idle": "2021-02-04T11:01:32.920356Z",
          "shell.execute_reply": "2021-02-04T11:01:32.919102Z",
          "shell.execute_reply.started": "2021-02-04T11:01:32.911263Z"
        },
        "id": "jOJN15FOHfFD",
        "outputId": "5fe6d0c9-7e72-4272-944d-3de6d8a30d97"
      },
      "outputs": [
        {
          "data": {
            "text/plain": [
              "[0, 0, 1, 1, 2, 8, 3, 27, 4, 64]"
            ]
          },
          "execution_count": 24,
          "metadata": {},
          "output_type": "execute_result"
        }
      ],
      "source": [
        "#YOUR_CODE_HERE\n"
      ]
    },
    {
      "cell_type": "markdown",
      "metadata": {
        "id": "LZZx-CoxHfFD"
      },
      "source": [
        "## Dictionaries and dictionary comprehensions"
      ]
    },
    {
      "cell_type": "markdown",
      "metadata": {
        "id": "D61uznKiHfFD"
      },
      "source": [
        "You will now see how to use the `defaultdict` class, which represents a dictionary with values initialised automatically on first access."
      ]
    },
    {
      "cell_type": "markdown",
      "metadata": {
        "id": "7jpavSEsHfFE"
      },
      "source": [
        "Consider the code below. When you try runnig it, you will get an error caused by the code trying to access a non-existent key in the dictionary:"
      ]
    },
    {
      "cell_type": "code",
      "execution_count": null,
      "metadata": {
        "execution": {
          "iopub.execute_input": "2021-02-04T11:27:02.259108Z",
          "iopub.status.busy": "2021-02-04T11:27:02.258654Z",
          "iopub.status.idle": "2021-02-04T11:27:02.274657Z",
          "shell.execute_reply": "2021-02-04T11:27:02.273319Z",
          "shell.execute_reply.started": "2021-02-04T11:27:02.259053Z"
        },
        "id": "O8esTs_jHfFE",
        "outputId": "9079f355-d0d1-4f8f-b50b-f5b21d270530"
      },
      "outputs": [
        {
          "ename": "KeyError",
          "evalue": "3",
          "output_type": "error",
          "traceback": [
            "\u001b[0;31m---------------------------------------------------------------------------\u001b[0m",
            "\u001b[0;31mKeyError\u001b[0m                                  Traceback (most recent call last)",
            "\u001b[0;32m<ipython-input-32-00783bdfd6d0>\u001b[0m in \u001b[0;36m<module>\u001b[0;34m\u001b[0m\n\u001b[1;32m      2\u001b[0m \u001b[0;32mfor\u001b[0m \u001b[0mkey\u001b[0m \u001b[0;32min\u001b[0m \u001b[0mrange\u001b[0m\u001b[0;34m(\u001b[0m\u001b[0;36m5\u001b[0m\u001b[0;34m)\u001b[0m\u001b[0;34m:\u001b[0m\u001b[0;34m\u001b[0m\u001b[0;34m\u001b[0m\u001b[0m\n\u001b[1;32m      3\u001b[0m     \u001b[0;32mfor\u001b[0m \u001b[0mr\u001b[0m \u001b[0;32min\u001b[0m \u001b[0mrange\u001b[0m\u001b[0;34m(\u001b[0m\u001b[0mrandom\u001b[0m\u001b[0;34m.\u001b[0m\u001b[0mrandint\u001b[0m\u001b[0;34m(\u001b[0m\u001b[0;36m0\u001b[0m\u001b[0;34m,\u001b[0m\u001b[0;36m4\u001b[0m\u001b[0;34m)\u001b[0m\u001b[0;34m)\u001b[0m\u001b[0;34m:\u001b[0m\u001b[0;34m\u001b[0m\u001b[0;34m\u001b[0m\u001b[0m\n\u001b[0;32m----> 4\u001b[0;31m         \u001b[0md\u001b[0m\u001b[0;34m[\u001b[0m\u001b[0mkey\u001b[0m\u001b[0;34m]\u001b[0m\u001b[0;34m.\u001b[0m\u001b[0mappend\u001b[0m\u001b[0;34m(\u001b[0m\u001b[0mr\u001b[0m\u001b[0;34m)\u001b[0m\u001b[0;34m\u001b[0m\u001b[0;34m\u001b[0m\u001b[0m\n\u001b[0m",
            "\u001b[0;31mKeyError\u001b[0m: 3"
          ]
        }
      ],
      "source": [
        "d = {}\n",
        "for key in range(5):\n",
        "    for r in range(random.randint(0,4)):\n",
        "        d[key].append(r)"
      ]
    },
    {
      "cell_type": "markdown",
      "metadata": {
        "id": "yXJe_I_sHfFE"
      },
      "source": [
        "However, if you replace the dictionary with `defaultdict` the problem goes away. Make sure you understand why:"
      ]
    },
    {
      "cell_type": "code",
      "execution_count": null,
      "metadata": {
        "execution": {
          "iopub.execute_input": "2021-02-04T11:29:29.265262Z",
          "iopub.status.busy": "2021-02-04T11:29:29.264805Z",
          "iopub.status.idle": "2021-02-04T11:29:29.275883Z",
          "shell.execute_reply": "2021-02-04T11:29:29.274958Z",
          "shell.execute_reply.started": "2021-02-04T11:29:29.265207Z"
        },
        "id": "m8WZX6i9HfFE",
        "outputId": "18d27557-d61d-4884-ebef-a224e9ecb7d0"
      },
      "outputs": [
        {
          "data": {
            "text/plain": [
              "defaultdict(list, {1: [0, 1, 2], 2: [0], 3: [0, 1, 2]})"
            ]
          },
          "execution_count": 33,
          "metadata": {},
          "output_type": "execute_result"
        }
      ],
      "source": [
        "from collections import defaultdict\n",
        "\n",
        "d = defaultdict(list)\n",
        "for key in range(5):\n",
        "    for r in range(random.randint(0,4)):\n",
        "        d[key].append(r)\n",
        "d"
      ]
    },
    {
      "cell_type": "markdown",
      "metadata": {
        "id": "WV2vqlIzHfFF"
      },
      "source": [
        "Below, use `dictionary comprehension` to create a new dictionary named `dc` with the same *keys* as `d` above but with values being the lengths of the lists in `d`:  "
      ]
    },
    {
      "cell_type": "code",
      "execution_count": null,
      "metadata": {
        "ExecuteTime": {
          "end_time": "2020-02-13T13:59:44.905900Z",
          "start_time": "2020-02-13T13:59:44.901129Z"
        },
        "execution": {
          "iopub.execute_input": "2021-02-04T11:32:50.568405Z",
          "iopub.status.busy": "2021-02-04T11:32:50.567962Z",
          "iopub.status.idle": "2021-02-04T11:32:50.576808Z",
          "shell.execute_reply": "2021-02-04T11:32:50.575564Z",
          "shell.execute_reply.started": "2021-02-04T11:32:50.568351Z"
        },
        "id": "Tt6jyAV2HfFF"
      },
      "outputs": [],
      "source": [
        "#YOUR_CODE_HERE\n"
      ]
    },
    {
      "cell_type": "code",
      "execution_count": null,
      "metadata": {
        "ExecuteTime": {
          "end_time": "2020-02-13T14:00:38.837311Z",
          "start_time": "2020-02-13T14:00:38.713177Z"
        },
        "execution": {
          "iopub.execute_input": "2021-02-04T11:32:44.576794Z",
          "iopub.status.busy": "2021-02-04T11:32:44.576372Z",
          "iopub.status.idle": "2021-02-04T11:32:44.583560Z",
          "shell.execute_reply": "2021-02-04T11:32:44.582486Z",
          "shell.execute_reply.started": "2021-02-04T11:32:44.576742Z"
        },
        "id": "qIHQW--AHfFF",
        "outputId": "6b9eef9c-cd61-4af7-a357-1c343c2a1555",
        "colab": {
          "base_uri": "https://localhost:8080/"
        }
      },
      "outputs": [
        {
          "output_type": "execute_result",
          "data": {
            "text/plain": [
              "{1: 3, 2: 1, 3: 3}"
            ]
          },
          "metadata": {},
          "execution_count": 2
        }
      ],
      "source": [
        "# test it\n",
        "dc"
      ]
    },
    {
      "cell_type": "markdown",
      "metadata": {
        "id": "pr0_bDPgHfFG"
      },
      "source": [
        "## Lambda functions"
      ]
    },
    {
      "cell_type": "markdown",
      "metadata": {
        "id": "AIziXh5zHfFG"
      },
      "source": [
        "You have been given a function named `calc`, which performs a certain calculation:"
      ]
    },
    {
      "cell_type": "code",
      "execution_count": null,
      "metadata": {
        "ExecuteTime": {
          "end_time": "2020-02-13T14:09:26.344642Z",
          "start_time": "2020-02-13T14:09:26.339805Z"
        },
        "execution": {
          "iopub.execute_input": "2021-02-04T11:35:25.789120Z",
          "iopub.status.busy": "2021-02-04T11:35:25.788683Z",
          "iopub.status.idle": "2021-02-04T11:35:25.794608Z",
          "shell.execute_reply": "2021-02-04T11:35:25.793511Z",
          "shell.execute_reply.started": "2021-02-04T11:35:25.789065Z"
        },
        "id": "jT1-tZu6HfFG"
      },
      "outputs": [],
      "source": [
        "def calc(x,y,z):\n",
        "    v = x*y-z\n",
        "    return v"
      ]
    },
    {
      "cell_type": "code",
      "execution_count": null,
      "metadata": {
        "execution": {
          "iopub.execute_input": "2021-02-04T11:35:26.280337Z",
          "iopub.status.busy": "2021-02-04T11:35:26.279910Z",
          "iopub.status.idle": "2021-02-04T11:35:26.287638Z",
          "shell.execute_reply": "2021-02-04T11:35:26.286573Z",
          "shell.execute_reply.started": "2021-02-04T11:35:26.280268Z"
        },
        "id": "nJzyPKgMHfFG",
        "outputId": "41d69b57-73f2-49d3-ea94-93594d05e766"
      },
      "outputs": [
        {
          "data": {
            "text/plain": [
              "(-1, -10000700.0)"
            ]
          },
          "execution_count": 40,
          "metadata": {},
          "output_type": "execute_result"
        }
      ],
      "source": [
        "# test it\n",
        "calc(1,2,3), calc(-7,100,1e7)"
      ]
    },
    {
      "cell_type": "markdown",
      "metadata": {
        "id": "PYGUa3yEHfFG"
      },
      "source": [
        "In the cell below, convert the `calc` function into a `lambda function` and call it `calc_lam`:"
      ]
    },
    {
      "cell_type": "code",
      "execution_count": null,
      "metadata": {
        "execution": {
          "iopub.execute_input": "2021-02-04T11:36:38.501668Z",
          "iopub.status.busy": "2021-02-04T11:36:38.501259Z",
          "iopub.status.idle": "2021-02-04T11:36:38.506729Z",
          "shell.execute_reply": "2021-02-04T11:36:38.505639Z",
          "shell.execute_reply.started": "2021-02-04T11:36:38.501617Z"
        },
        "id": "vFVnl3cRHfFH"
      },
      "outputs": [],
      "source": [
        "#YOUR_CODE_HERE\n"
      ]
    },
    {
      "cell_type": "code",
      "execution_count": null,
      "metadata": {
        "execution": {
          "iopub.execute_input": "2021-02-04T11:37:00.922649Z",
          "iopub.status.busy": "2021-02-04T11:37:00.922201Z",
          "iopub.status.idle": "2021-02-04T11:37:00.930213Z",
          "shell.execute_reply": "2021-02-04T11:37:00.929139Z",
          "shell.execute_reply.started": "2021-02-04T11:37:00.922595Z"
        },
        "id": "8P0YzoGNHfFH",
        "outputId": "e2b2c838-5077-4bcc-a0f5-7eb7d7864a31"
      },
      "outputs": [
        {
          "data": {
            "text/plain": [
              "(-1, -10000700.0)"
            ]
          },
          "execution_count": 43,
          "metadata": {},
          "output_type": "execute_result"
        }
      ],
      "source": [
        "# test it\n",
        "calc_lam(1,2,3), calc_lam(-7,100,1e7)"
      ]
    },
    {
      "cell_type": "markdown",
      "metadata": {
        "id": "nh2OaKf2HfFH"
      },
      "source": [
        "Now, create a `lambda function` named `calc_lam1`, which only takes two arguments: `x` and `z`, with `y` always being equal to `5`:"
      ]
    },
    {
      "cell_type": "code",
      "execution_count": null,
      "metadata": {
        "execution": {
          "iopub.execute_input": "2021-02-04T11:38:44.875825Z",
          "iopub.status.busy": "2021-02-04T11:38:44.875372Z",
          "iopub.status.idle": "2021-02-04T11:38:44.880921Z",
          "shell.execute_reply": "2021-02-04T11:38:44.879793Z",
          "shell.execute_reply.started": "2021-02-04T11:38:44.875769Z"
        },
        "id": "Hu23VEj7HfFH"
      },
      "outputs": [],
      "source": [
        "#YOUR_CODE_HERE\n"
      ]
    },
    {
      "cell_type": "code",
      "execution_count": null,
      "metadata": {
        "execution": {
          "iopub.execute_input": "2021-02-04T11:39:18.142685Z",
          "iopub.status.busy": "2021-02-04T11:39:18.142237Z",
          "iopub.status.idle": "2021-02-04T11:39:18.147996Z",
          "shell.execute_reply": "2021-02-04T11:39:18.146889Z",
          "shell.execute_reply.started": "2021-02-04T11:39:18.142630Z"
        },
        "id": "UnBWg16oHfFH"
      },
      "outputs": [],
      "source": [
        "# test it\n",
        "assert calc_lam(1,5,3), calc_lam1(1,3)"
      ]
    },
    {
      "cell_type": "code",
      "execution_count": null,
      "metadata": {
        "ExecuteTime": {
          "end_time": "2020-02-13T14:48:35.862717Z",
          "start_time": "2020-02-13T14:48:35.851407Z"
        },
        "execution": {
          "iopub.execute_input": "2021-02-04T11:45:31.856554Z",
          "iopub.status.busy": "2021-02-04T11:45:31.856071Z",
          "iopub.status.idle": "2021-02-04T11:45:31.866742Z",
          "shell.execute_reply": "2021-02-04T11:45:31.865641Z",
          "shell.execute_reply.started": "2021-02-04T11:45:31.856499Z"
        },
        "id": "kGxOXyfVHfFI"
      },
      "outputs": [],
      "source": []
    },
    {
      "cell_type": "code",
      "execution_count": null,
      "metadata": {
        "id": "kHr81R6iHfFI"
      },
      "outputs": [],
      "source": []
    }
  ],
  "metadata": {
    "kernelspec": {
      "display_name": "Python 3",
      "language": "python",
      "name": "python3"
    },
    "language_info": {
      "codemirror_mode": {
        "name": "ipython",
        "version": 3
      },
      "file_extension": ".py",
      "mimetype": "text/x-python",
      "name": "python",
      "nbconvert_exporter": "python",
      "pygments_lexer": "ipython3",
      "version": "3.8.3"
    },
    "toc": {
      "base_numbering": 1,
      "nav_menu": {},
      "number_sections": true,
      "sideBar": true,
      "skip_h1_title": false,
      "title_cell": "Table of Contents",
      "title_sidebar": "Contents",
      "toc_cell": false,
      "toc_position": {},
      "toc_section_display": true,
      "toc_window_display": true
    },
    "toc-autonumbering": true,
    "toc-showcode": false,
    "toc-showmarkdowntxt": false,
    "toc-showtags": false,
    "varInspector": {
      "cols": {
        "lenName": 16,
        "lenType": 16,
        "lenVar": "160"
      },
      "kernels_config": {
        "python": {
          "delete_cmd_postfix": "",
          "delete_cmd_prefix": "del ",
          "library": "var_list.py",
          "varRefreshCmd": "print(var_dic_list())"
        },
        "r": {
          "delete_cmd_postfix": ") ",
          "delete_cmd_prefix": "rm(",
          "library": "var_list.r",
          "varRefreshCmd": "cat(var_dic_list()) "
        }
      },
      "types_to_exclude": [
        "module",
        "function",
        "builtin_function_or_method",
        "instance",
        "_Feature"
      ],
      "window_display": false
    },
    "colab": {
      "provenance": [],
      "include_colab_link": true
    }
  },
  "nbformat": 4,
  "nbformat_minor": 0
}